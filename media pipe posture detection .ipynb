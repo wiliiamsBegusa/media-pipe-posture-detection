{
 "cells": [
  {
   "cell_type": "code",
   "execution_count": 14,
   "metadata": {},
   "outputs": [],
   "source": [
    "#import necessary libraries\n",
    "import cv2\n",
    "import mediapipe as mp \n",
    "import time"
   ]
  },
  {
   "cell_type": "code",
   "execution_count": 15,
   "metadata": {},
   "outputs": [],
   "source": [
    "#variable assignment\n",
    "#assign a variable to detect  the camera\n",
    "capture = cv2.VideoCapture(0)\n",
    "\n",
    "#leverage mediapipe for posture detection\n",
    "mpDraw = mp.solutions.drawing_utils\n",
    "mpPose = mp.solutions.pose\n",
    "pose = mpPose.Pose()\n",
    "\n",
    "#Frame rate \n",
    "cTime = 0\n",
    "pTime = 0"
   ]
  },
  {
   "cell_type": "code",
   "execution_count": null,
   "metadata": {},
   "outputs": [],
   "source": [
    "# create a while loop to nest the major functions of your code\n",
    "\n",
    "while True:\n",
    "    #turn on the internal camera(0)\n",
    "    sucess, vid = capture.read(0)\n",
    "    \n",
    "    #convert the image to RGB\n",
    "    vidRGB = cv2.cvtColor(vid,cv2.COLOR_BGR2RGB)\n",
    "    \n",
    "    #apply mediapipe\n",
    "    results = pose.process(vidRGB)\n",
    "    #draw landmarks\n",
    "    if results.pose_landmarks:\n",
    "        mpDraw.draw_landmarks(vid,results.pose_landmarks,mpPose.POSE_CONNECTIONS)\n",
    "        for id,lm in enumerate (results.pose_landmarks.landmark):\n",
    "            h,w,c = vid.shape\n",
    "            cx, cy =  int(lm.x+w) , int(lm.y+h)\n",
    "            cv2.circle(vid,(cx,cy),5,(255,255,134),cv2.FILLED)\n",
    "       \n",
    "    \n",
    "    \n",
    "    #create a button which will close the loop(exits the while loop)\n",
    "    if cv2.waitKey(1) & 0xFF == ord('x'):\n",
    "        break\n",
    "     \n",
    "    #Frame Rate\n",
    "    cTime = time.time()\n",
    "    fps = 1 / (cTime - pTime)\n",
    "    pTime = cTime\n",
    "    cv2.putText(vid,str(int(fps)),(10,70),cv2.FONT_HERSHEY_PLAIN,3,(255,0,255),3)\n",
    "    cv2.putText(vid,\"Williams Begusa full body detection\",(100,40),cv2.FONT_HERSHEY_PLAIN,2,(255,0,255),3)\n",
    "    \n",
    "    \n",
    "    #create a window to show what the camera sees\n",
    "    cv2.imshow('Display',vid)\n",
    "       \n",
    "#closes the window once while loop is exited\n",
    "capture.release()\n",
    "cv2.destroyAllWindows()"
   ]
  },
  {
   "cell_type": "code",
   "execution_count": null,
   "metadata": {},
   "outputs": [],
   "source": []
  }
 ],
 "metadata": {
  "kernelspec": {
   "display_name": "Python 3",
   "language": "python",
   "name": "python3"
  },
  "language_info": {
   "codemirror_mode": {
    "name": "ipython",
    "version": 3
   },
   "file_extension": ".py",
   "mimetype": "text/x-python",
   "name": "python",
   "nbconvert_exporter": "python",
   "pygments_lexer": "ipython3",
   "version": "3.7.6"
  }
 },
 "nbformat": 4,
 "nbformat_minor": 4
}
